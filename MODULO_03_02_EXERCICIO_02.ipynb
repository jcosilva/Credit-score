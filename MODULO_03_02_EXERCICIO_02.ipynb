{
 "cells": [
  {
   "cell_type": "markdown",
   "metadata": {},
   "source": [
    "# Tarefa 02 Módulo 05\n",
    "\n",
    "O nosso projeto desta sequência de módulos do curso será um aprofundamento da demonstração sobre classificação de risco de crédito que vimos lá no comecinho. Pois recebemos uma base já montada pra nós. Tenha certeza de que ela passou por um longo processamento até ficar daquele jeito. Neste exercício vamos exercitar o que aprendemos nas ultimas aulas e montar a variável resposta da base do nosso projeto.\n",
    "\n",
    "#### Marcação de bom e mau\n",
    "O objetivo da modelagem é classificar o risco de inadimplência, ou como se diz no meio, o risco de *default*. Podemos fazer longas discussões sobre o conceito de *default* com base em estudos e exigências regulatórias, para efeitos deste estudo, um cliente em *default* é aquele que está em 60 dias de atraso ou mais. Então classificaremos os clientes como 'bons' e 'maus' assim:\n",
    "- **Maus** pagadores: são aqueles que entraram em 'default' (atraso 60 dias ou mais) nos 24 meses seguintes à aquisição do cartão de crédito. \n",
    "- **Bons** pagadores: são considerados todos os demais.\n",
    "- **Excluídos**: Clientes que não adquiriram um cartão de crédito (seja por recusa, seja por desistência) não possuem informações de pagamento, portanto não se pode identificar se são bons ou maus. Há uma longa discussão e literatura sobre *inferência de rejeitados* que está fora do escopo deste exercício.\n",
    "\n",
    "#### Bases disponíveis\n",
    "Temos duas bases importantes aqui: uma de propostas, com diversas informações dos vários solicitantes de cartão de crédito, e uma base de pagamentos. A base de pagamentos será utilizada para identificar a ocorrência de *default*. A base de propostas tem diversas informações coletadas no momento da solicitação do crédito (isto é importante: qualquer informação posterior a essa data é impossível de ser coletada na aplicação do modelo e não pode ser utilizada).\n",
    "\n",
    "As variáveis delas são:\n",
    "\n",
    "Base de propostas - MODULO_03_02_EXERCICIO_02_DADOS_01.csv\n",
    "\n",
    "| Nome da Variável         | Description                                         | Tipo  |\n",
    "| ------------------------ |:---------------------------------------------------:| -----:|\n",
    "| ID| identificador do cliente (chave) |inteiro|\n",
    "| CODE_GENDER| M = 'Masculino'; F = 'Feminino' |M/F|\n",
    "| FLAG_OWN_CAR| Y = 'possui'; N = 'não possui' |Y/N|\n",
    "| FLAG_OWN_REALTY| Y = 'possui'; N = 'não possui' |Y/N|\n",
    "| CNT_CHILDREN| Quantidade de filhos |inteiro|\n",
    "| AMT_INCOME_TOTAL| Annual income |inteiro|\n",
    "| NAME_INCOME_TYPE|Tipo de renda (ex: assaliariado, autônomo etc) | texto |\n",
    "| NAME_EDUCATION_TYPE| Nível de educação (ex: secundário, superior etc) |texto|\n",
    "| NAME_FAMILY_STATUS | Estado civil (ex: solteiro, casado etc)| texto |\n",
    "| NAME_HOUSING_TYPE | tipo de residência (ex: casa/apartamento, com os pais etc) | texto |\n",
    "| DAYS_BIRTH | Count backwards from current day (0), -1 means yesterday |inteiro|\n",
    "| DAYS_EMPLOYED | Count backwards from current day (0), -1 means yesterday |inteiro|\n",
    "| FLAG_MOBIL | Indica se possui celular (1 = sim, 0 = não) |binária|\n",
    "| FLAG_WORK_PHONE | Indica se possui telefone comercial (1 = sim, 0 = não) |binária|\n",
    "| FLAG_PHONE | Indica se possui telefone (1 = sim, 0 = não) |binária|\n",
    "| FLAG_EMAIL | Indica se possui e-mail (1 = sim, 0 = não) |binária|\n",
    "| OCCUPATION_TYPE | Occupation\t |Qualitativa|\n",
    "| CNT_FAM_MEMBERS | quantidade de pessoas na residência |inteiro|\n",
    "\n",
    "Base de pagamentos - MODULO_03_02_EXERCICIO_02_DADOS_02.csv  \n",
    "\n",
    "| Nome da Variável         | Description                                         | Tipo  |\n",
    "| ------------------------ |:---------------------------------------------------:| -----:|\n",
    "| ID| identificador do cliente (chave) |inteiro|\n",
    "| mes_00 a mes_24| faixa de atraso mês a mês do cliente <br>0: 1-29 days past due &nbsp;&nbsp;&nbsp;&nbsp; 1: 30-59 days past due <br />2: 60-89 days overdue &nbsp;&nbsp;&nbsp;&nbsp; 3: 90-119 days overdue <br /> 4: 120-149 days overdue &nbsp;&nbsp;&nbsp;&nbsp; 5: more than 150 days <br />C: paid off that month &nbsp;&nbsp;&nbsp;&nbsp; X: No loan for the month |Qualitativa|\n",
    "\n",
    "#### Construindo a variável resposta\n",
    "A base de pagamentos está em um formato de 'base larga'. Essa base possui informações de pagamentos do cliente mês a mês a partir do mês de aquisição do crédito (mês 0) até o vigésimo quarto mês após a aquisição do crédito (mês 24). Utilizaremos essa base para determinar se um proponente é considerado 'bom pagador' ou caso apresente atraso representativo, será considerado 'mau pagador'.\n",
    "\n",
    "#### Base larga vs base longa\n",
    "A base ser larga significa que há uma linha para cada cliente, e que as informações estarão nas colunas, em contraste com a 'base longa', em que haveria uma linha para cada combinação cliente/mês, uma coluna indicando o cliente, outra indicando o mês, e apenas uma coluna com a informação do atraso.\n",
    "\n",
    "#### Tarefa 1) Marcar *default* no mês\n",
    "Faça uma indicadora de se o cliente está em *default* em cada uma das marcações (mes_00 a mes_24). Dica: você pode utilizar o método ```.isin()``` do Pandas. Consulte a [documentação](https://pandas.pydata.org/pandas-docs/stable/reference/api/pandas.DataFrame.isin.html) caso necessário.\n",
    "\n",
    "#### Tarefa 2) 'bons' e 'maus' ao longo de todos os 24 meses de desempenho\n",
    "Marque para cada cliente se ele teve pelo menos um episódio de *default* entre o mês 0 e o mês 24. Dica: o método ```sum()``` pode ajudar. Caso precise, consulte a [documentação](https://pandas.pydata.org/docs/reference/api/pandas.DataFrame.sum.html) e procure pelo argumento ```axis```, você viu outros métodos que possuem esse argumento também. Tendo o número de meses em default de cada cliente, basta marcar ```True``` para todos aqueles que possuem pelo menos 1 mês em *default* e ```False``` para os demais.\n",
    "\n",
    "#### Tarefa 3) Marcando proponentes expostos ao risco de crédito\n",
    "Marcando proponentes que se tornaram tomadores: lembre-se de que clientes que não adquiriram o cartão devem ser desconsiderados. A base de pagamentos possui apenas clientes que adquiriram cartão de crédito, então você pode selecionar somente os clientes da base de propostas que se encontram na base de pagamentos.\n",
    "\n",
    "#### Tarefa 4) Consolidando as informações\n",
    "Faça uma junção das informações da base de propostas com a variável de *default* que você acabou de construir. Talvez você consiga realizar a tarefa 3 e tarefa 4 em uma única linha de código ;)\n",
    "\n",
    "#### Tarefa 5) Verificando\n",
    "Faça uma contagem dos valores do *default* que você construiu. "
   ]
  },
  {
   "cell_type": "code",
   "execution_count": 2,
   "metadata": {},
   "outputs": [],
   "source": [
    "import pandas as pd"
   ]
  },
  {
   "cell_type": "code",
   "execution_count": 3,
   "metadata": {},
   "outputs": [],
   "source": [
    "propostas = pd.read_csv('MODULO_03_02_EXERCICIO_02_DADOS_01.csv')\n",
    "pagamentos = pd.read_csv('MODULO_03_02_EXERCICIO_02_DADOS_02.csv')"
   ]
  },
  {
   "cell_type": "code",
   "execution_count": 4,
   "metadata": {},
   "outputs": [
    {
     "name": "stdout",
     "output_type": "stream",
     "text": [
      "Base de Propostas:\n",
      "        ID CODE_GENDER FLAG_OWN_CAR FLAG_OWN_REALTY  CNT_CHILDREN  \\\n",
      "0  5008804           M            Y               Y             0   \n",
      "1  5008805           M            Y               Y             0   \n",
      "\n",
      "   AMT_INCOME_TOTAL NAME_INCOME_TYPE NAME_EDUCATION_TYPE NAME_FAMILY_STATUS  \\\n",
      "0          427500.0          Working    Higher education     Civil marriage   \n",
      "1          427500.0          Working    Higher education     Civil marriage   \n",
      "\n",
      "  NAME_HOUSING_TYPE  DAYS_BIRTH  DAYS_EMPLOYED  FLAG_MOBIL  FLAG_WORK_PHONE  \\\n",
      "0  Rented apartment      -12005          -4542           1                1   \n",
      "1  Rented apartment      -12005          -4542           1                1   \n",
      "\n",
      "   FLAG_PHONE  FLAG_EMAIL OCCUPATION_TYPE  CNT_FAM_MEMBERS  \n",
      "0           0           0             NaN              2.0  \n",
      "1           0           0             NaN              2.0  \n",
      "Quantidade Total de Linhas:\n",
      "ID\n",
      "7137299    2\n",
      "7702238    2\n",
      "7282535    2\n",
      "7243768    2\n",
      "7050948    2\n",
      "          ..\n",
      "5690727    1\n",
      "6621262    1\n",
      "6621261    1\n",
      "6621260    1\n",
      "6842885    1\n",
      "Name: count, Length: 438510, dtype: int64\n"
     ]
    }
   ],
   "source": [
    "print(\"Base de Propostas:\")\n",
    "print(propostas.head(2))\n",
    "print(\"Quantidade Total de Linhas:\")\n",
    "print(propostas['ID'].value_counts())"
   ]
  },
  {
   "cell_type": "code",
   "execution_count": 5,
   "metadata": {},
   "outputs": [
    {
     "name": "stdout",
     "output_type": "stream",
     "text": [
      "\n",
      "Base de Pagamentos:\n",
      "        ID mes_0 mes_1 mes_10 mes_11 mes_12 mes_13 mes_14 mes_15 mes_16  ...  \\\n",
      "0  5001718     0     0      0      0      0      0      0      0    NaN  ...   \n",
      "1  5001719     0     0      C      C      C      C      C      C      C  ...   \n",
      "\n",
      "  mes_22 mes_23 mes_24 mes_3 mes_4 mes_5 mes_6 mes_7 mes_8 mes_9  \n",
      "0    NaN      0    NaN     0     0     0     0   NaN     0   NaN  \n",
      "1      C      C      C     C     C     C     C     C     C     C  \n",
      "\n",
      "[2 rows x 26 columns]\n",
      "Quantidade Total de Linhas:\n",
      "ID\n",
      "5001718    1\n",
      "5095302    1\n",
      "5095365    1\n",
      "5095358    1\n",
      "5095353    1\n",
      "          ..\n",
      "5041641    1\n",
      "5041638    1\n",
      "5041636    1\n",
      "5041633    1\n",
      "5150487    1\n",
      "Name: count, Length: 20937, dtype: int64\n"
     ]
    }
   ],
   "source": [
    "print(\"\\nBase de Pagamentos:\")\n",
    "print(pagamentos.head(2))\n",
    "print(\"Quantidade Total de Linhas:\")\n",
    "print(pagamentos['ID'].value_counts())"
   ]
  },
  {
   "cell_type": "code",
   "execution_count": 6,
   "metadata": {},
   "outputs": [
    {
     "name": "stdout",
     "output_type": "stream",
     "text": [
      "\n",
      "Base de Pagamentos Atualizada:\n",
      "        ID  mes_0  mes_1  mes_10  mes_11  mes_12  mes_13  mes_14  mes_15  \\\n",
      "0  5001718  False  False   False   False   False   False   False   False   \n",
      "1  5001719  False  False   False   False   False   False   False   False   \n",
      "\n",
      "   mes_16  ...  mes_22  mes_23  mes_24  mes_3  mes_4  mes_5  mes_6  mes_7  \\\n",
      "0   False  ...   False   False   False  False  False  False  False  False   \n",
      "1   False  ...   False   False   False  False  False  False  False  False   \n",
      "\n",
      "   mes_8  mes_9  \n",
      "0  False  False  \n",
      "1  False  False  \n",
      "\n",
      "[2 rows x 26 columns]\n"
     ]
    }
   ],
   "source": [
    "# Tarefa 01: Marcar default no mês\n",
    "# Considerar que os valores 2, 3, 4 e 5 representam default (atraso de 60 dias ou mais)\n",
    "valores_default = ['2', '3', '4', '5']\n",
    "colunas_meses = [col for col in pagamentos.columns if col.startswith('mes_')]\n",
    "\n",
    "# Substituir diretamente nas colunas \"mes_\" pelos valores booleanos de default\n",
    "for col in colunas_meses:\n",
    "    pagamentos[col] = pagamentos[col].isin(valores_default)\n",
    "\n",
    "# Verificar resultado final\n",
    "print(\"\\nBase de Pagamentos Atualizada:\")\n",
    "print(pagamentos.head(2))"
   ]
  },
  {
   "cell_type": "code",
   "execution_count": 7,
   "metadata": {},
   "outputs": [
    {
     "name": "stdout",
     "output_type": "stream",
     "text": [
      "\n",
      "Base de Pagamentos (Com coluna de Resumo):\n",
      "        ID  mes_0  mes_1  mes_10  mes_11  mes_12  mes_13  mes_14  mes_15  \\\n",
      "0  5001718  False  False   False   False   False   False   False   False   \n",
      "1  5001719  False  False   False   False   False   False   False   False   \n",
      "\n",
      "   mes_16  ...  mes_23  mes_24  mes_3  mes_4  mes_5  mes_6  mes_7  mes_8  \\\n",
      "0   False  ...   False   False  False  False  False  False  False  False   \n",
      "1   False  ...   False   False  False  False  False  False  False  False   \n",
      "\n",
      "   mes_9  teve_default  \n",
      "0  False         False  \n",
      "1  False         False  \n",
      "\n",
      "[2 rows x 27 columns]\n",
      "\n",
      "Contagem de clientes com default:\n",
      "teve_default\n",
      "False    20506\n",
      "True       431\n",
      "Name: count, dtype: int64\n"
     ]
    }
   ],
   "source": [
    "# Tarefa 2: Identificar 'bons' e 'maus' ao longo dos 24 meses\n",
    "pagamentos['teve_default'] = pagamentos[colunas_meses].sum(axis=1) > 0\n",
    "print(\"\\nBase de Pagamentos (Com coluna de Resumo):\")\n",
    "print(pagamentos.head(2))\n",
    "\n",
    "# Exibindo contagem de clientes que tiveram default\n",
    "print(\"\\nContagem de clientes com default:\")\n",
    "print(pagamentos['teve_default'].value_counts())"
   ]
  },
  {
   "cell_type": "code",
   "execution_count": 8,
   "metadata": {},
   "outputs": [
    {
     "name": "stdout",
     "output_type": "stream",
     "text": [
      "        ID CODE_GENDER FLAG_OWN_CAR FLAG_OWN_REALTY  CNT_CHILDREN  \\\n",
      "0  5008806           M            Y               Y             0   \n",
      "1  5008810           F            N               Y             0   \n",
      "\n",
      "   AMT_INCOME_TOTAL      NAME_INCOME_TYPE            NAME_EDUCATION_TYPE  \\\n",
      "0          112500.0               Working  Secondary / secondary special   \n",
      "1          270000.0  Commercial associate  Secondary / secondary special   \n",
      "\n",
      "     NAME_FAMILY_STATUS  NAME_HOUSING_TYPE  DAYS_BIRTH  DAYS_EMPLOYED  \\\n",
      "0               Married  House / apartment      -21474          -1134   \n",
      "1  Single / not married  House / apartment      -19110          -3051   \n",
      "\n",
      "   FLAG_MOBIL  FLAG_WORK_PHONE  FLAG_PHONE  FLAG_EMAIL OCCUPATION_TYPE  \\\n",
      "0           1                0           0           0  Security staff   \n",
      "1           1                0           1           1     Sales staff   \n",
      "\n",
      "   CNT_FAM_MEMBERS  teve_default  \n",
      "0              2.0         False  \n",
      "1              1.0         False  \n",
      "ID\n",
      "5008806    1\n",
      "5096988    1\n",
      "5097006    1\n",
      "5097007    1\n",
      "5097014    1\n",
      "          ..\n",
      "5050534    1\n",
      "5050535    1\n",
      "5050536    1\n",
      "5050537    1\n",
      "5149838    1\n",
      "Name: count, Length: 16650, dtype: int64\n"
     ]
    }
   ],
   "source": [
    "# Tarefa 3 e 4: Consolidando as informações e marcando proponentes expostos ao risco\n",
    "# Selecionando apenas os clientes que estão na base de pagamentos (adquiriram cartão)\n",
    "base_final = propostas.merge(pagamentos[['ID', 'teve_default']], on='ID', how='inner')\n",
    "print(base_final.head(2))\n",
    "print(base_final['ID'].value_counts())"
   ]
  },
  {
   "cell_type": "code",
   "execution_count": 9,
   "metadata": {},
   "outputs": [
    {
     "name": "stdout",
     "output_type": "stream",
     "text": [
      "\n",
      "Contagem final de bons e maus pagadores (que estavam em propostas e pagamentos):\n",
      "teve_default\n",
      "False    16260\n",
      "True       390\n",
      "Name: count, dtype: int64\n",
      "Percentual de maus pagadores: 2.34% (Pagadores que estavam em propostas e estaram em default)\n",
      "\n",
      "Total de clientes na base de propostas: 438557\n",
      "Total de clientes na base de pagamentos: 20937\n",
      "Total de clientes na base final: 16650\n"
     ]
    }
   ],
   "source": [
    "# Tarefa 5: Verificando a contagem de valores de default\n",
    "print(\"\\nContagem final de bons e maus pagadores (que estavam em propostas e pagamentos):\")\n",
    "print(base_final['teve_default'].value_counts())\n",
    "print(f\"Percentual de maus pagadores: {base_final['teve_default'].mean() * 100:.2f}% (Pagadores que estavam em propostas e estaram em default)\")\n",
    "\n",
    "# Verificando quantos clientes da base de propostas estão na base de pagamentos\n",
    "print(f\"\\nTotal de clientes na base de propostas: {propostas.shape[0]}\")\n",
    "print(f\"Total de clientes na base de pagamentos: {pagamentos.shape[0]}\")\n",
    "print(f\"Total de clientes na base final: {base_final.shape[0]}\")"
   ]
  }
 ],
 "metadata": {
  "kernelspec": {
   "display_name": "Python [conda env:base] *",
   "language": "python",
   "name": "conda-base-py"
  },
  "language_info": {
   "codemirror_mode": {
    "name": "ipython",
    "version": 3
   },
   "file_extension": ".py",
   "mimetype": "text/x-python",
   "name": "python",
   "nbconvert_exporter": "python",
   "pygments_lexer": "ipython3",
   "version": "3.12.7"
  }
 },
 "nbformat": 4,
 "nbformat_minor": 4
}
